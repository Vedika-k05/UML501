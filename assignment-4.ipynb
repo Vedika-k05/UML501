{
 "cells": [
  {
   "cell_type": "code",
   "execution_count": null,
   "id": "3ddef2f5",
   "metadata": {},
   "outputs": [],
   "source": [
    "import requests\n",
    "from bs4 import BeautifulSoup\n",
    "import pandas as pd\n",
    " \n"
   ]
  },
  {
   "cell_type": "code",
   "execution_count": null,
   "id": "4d4539e4",
   "metadata": {},
   "outputs": [],
   "source": [
    "\n",
    "title=[]\n",
    "price=[]\n",
    "availability=[]\n",
    "star=[]\n",
    "# to get the pages we have used this url\n",
    "base= \"https://books.toscrape.com/catalogue/page-{}.html\"\n",
    "for page in range(1,51):\n",
    "    url=base.format(page)\n",
    "    response=requests.get(url)\n",
    "    html = response.text\n",
    "    \n",
    "    soup = BeautifulSoup(html,\"html.parser\")\n",
    "    #all book containers\n",
    "    books = soup.find_all(\"article\", class_=\"product_pod\")\n",
    "    for book in books:\n",
    "        title.append(book.find(\"h3\").a['title'])\n",
    "        p = book.find(\"p\", class_=\"price_color\").text\n",
    "        price.append(p[1:len(p)])\n",
    "        availability.append(book.find(\"p\", class_=\"instock availability\").text.strip())\n",
    "        star.append(book.find(\"p\", class_=\"star-rating\")[\"class\"][1])\n",
    "     \n",
    "df=pd.DataFrame({\"Title\":title,\n",
    "\"Price\":price,\n",
    "\"Availability\":availability,\n",
    "\"Star\":star})\n",
    "df.to_csv(\"books.csv\",index=False)\n",
    "\n"
   ]
  },
  {
   "cell_type": "code",
   "execution_count": null,
   "id": "3e963acb",
   "metadata": {},
   "outputs": [
    {
     "name": "stdout",
     "output_type": "stream",
     "text": [
      "Total rows found: 250\n",
      "250\n"
     ]
    }
   ],
   "source": [
    "from selenium import webdriver\n",
    "from selenium.webdriver.chrome.service import Service\n",
    "from webdriver_manager.chrome import ChromeDriverManager\n",
    "\n",
    "import time\n",
    "\n",
    "# Launch browser\n",
    "driver = webdriver.Chrome()\n",
    "driver.get(\"https://www.imdb.com/chart/top/\")\n",
    "time.sleep(5)\n",
    "\n",
    "html = driver.page_source\n",
    "\n",
    "soup = BeautifulSoup(html, \"html.parser\")\n",
    "driver.quit()\n",
    "\n",
    "ranks =[]\n",
    "titles=[]\n",
    "years =[]\n",
    "rating=[]\n",
    "\n",
    "rows = soup.find_all(\"li\", class_=\"ipc-metadata-list-summary-item\")\n",
    "print(\"Total rows found:\", len(rows))\n",
    "for rank ,row in enumerate (rows,start=1): # for numbering 1-250\n",
    "    h=(row.find(\"h3\").text.strip())\n",
    "    titles.append(h.split(\".\",1)[1])\n",
    "\n",
    "    years.append(row.find(\"span\", class_=\"sc-15ac7568-7 cCsint cli-title-metadata-item\").text\n",
    ")\n",
    "\n",
    "    rating.append(row.find(\"span\",class_=\"ipc-rating-star--rating\").text.strip())\n",
    "    ranks.append(rank)\n",
    "\n",
    "df = pd.DataFrame({\n",
    "    \"Rank\": ranks,\n",
    "    \"Title\": titles,\n",
    "    \"Year\": years,\n",
    "    \"IMDB Rating\": rating\n",
    "})\n",
    "\n",
    "df.to_csv(\"imdb_top250.csv\", index=False)  \n",
    "print(len(rows))\n",
    "\n",
    "\n",
    "                      "
   ]
  },
  {
   "cell_type": "code",
   "execution_count": null,
   "id": "599d496a",
   "metadata": {},
   "outputs": [],
   "source": [
    "import sys\n",
    "print(sys.executable)\n",
    "pip install selenium webdriver-manager imdbpy\n",
    "\n"
   ]
  },
  {
   "cell_type": "code",
   "execution_count": 50,
   "id": "ad262bc5",
   "metadata": {},
   "outputs": [],
   "source": [
    "\n",
    "response=requests.get(\"https://www.timeanddate.com/weather/\")\n",
    "html=response.text\n",
    "soup=BeautifulSoup(html,\"html.parser\")\n",
    "\n",
    "city1=[]\n",
    "temp1=[]\n",
    "weather1=[]\n",
    "\n",
    "table=soup.find(\"table\",class_=\"zebra fw tb-theme\")\n",
    "rows=table.find_all(\"tr\")[1:] #exclude header\n",
    "for row in rows:\n",
    "        city1.append(row.find(\"a\").text)\n",
    "        weather1.append(row.find(\"img\")['title'])\n",
    "        temp1.append(row.find(\"td\", class_=\"rbi\").text.strip())\n",
    "       \n",
    "df=pd.DataFrame({\"City\":city1,\"Temperature\":temp1,\"Weather Cond\":weather1})\n",
    "\n",
    "df.to_csv(\"weatherinfo.csv\",index=False)"
   ]
  }
 ],
 "metadata": {
  "kernelspec": {
   "display_name": "base",
   "language": "python",
   "name": "python3"
  },
  "language_info": {
   "codemirror_mode": {
    "name": "ipython",
    "version": 3
   },
   "file_extension": ".py",
   "mimetype": "text/x-python",
   "name": "python",
   "nbconvert_exporter": "python",
   "pygments_lexer": "ipython3",
   "version": "3.13.5"
  }
 },
 "nbformat": 4,
 "nbformat_minor": 5
}
