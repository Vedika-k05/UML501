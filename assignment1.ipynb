{
 "cells": [
  {
   "cell_type": "markdown",
   "id": "ac7eb97d-23cb-45ea-ad64-8015fadde1f4",
   "metadata": {},
   "source": [
    "Q1"
   ]
  },
  {
   "cell_type": "code",
   "execution_count": 13,
   "id": "2d9f64a2-b234-402f-846f-f8058244322b",
   "metadata": {},
   "outputs": [
    {
     "name": "stdout",
     "output_type": "stream",
     "text": [
      "reverse is [5 4 6 3 2 1]\n"
     ]
    }
   ],
   "source": [
    "#(a)\n",
    "import numpy as np \n",
    "arr=np.array([1,2,3,6,4,5])\n",
    "rev=np.flip(arr)\n",
    "print(\"reverse is\",rev)"
   ]
  },
  {
   "cell_type": "code",
   "execution_count": 14,
   "id": "bd720636-73f5-4bbc-9937-430b3ed3d7e0",
   "metadata": {},
   "outputs": [
    {
     "name": "stdout",
     "output_type": "stream",
     "text": [
      "[1 2 3 2 4 5 1 2 3]\n",
      "using reshape(-1): [1 2 3 2 4 5 1 2 3]\n"
     ]
    }
   ],
   "source": [
    "#b\n",
    "array1 = np.array([[1, 2, 3], [2, 4, 5], [1, 2, 3]])\n",
    "flatt=array1.flatten()\n",
    "print(flatt)\n",
    "flat3=array1.reshape(-1)\n",
    "print(\"using reshape(-1):\",flat3)\n"
   ]
  },
  {
   "cell_type": "code",
   "execution_count": 15,
   "id": "1788489d-57b4-4df9-8c28-143b0f696ce2",
   "metadata": {},
   "outputs": [
    {
     "name": "stdout",
     "output_type": "stream",
     "text": [
      "[[ True  True]\n",
      " [ True  True]]\n"
     ]
    }
   ],
   "source": [
    "#(c)\n",
    "arr1=np.array([[1, 2],[3, 4]])\n",
    "arr2=np.array([[1, 2],[3, 4]])\n",
    "print(arr1==arr2)\n"
   ]
  },
  {
   "cell_type": "code",
   "execution_count": 16,
   "id": "a9f49c0b-0248-47ea-ab3c-c4dc8bbb304d",
   "metadata": {},
   "outputs": [
    {
     "name": "stdout",
     "output_type": "stream",
     "text": [
      "45\n",
      "[[14]\n",
      " [16]\n",
      " [15]]\n",
      "[[20  9 16]]\n"
     ]
    }
   ],
   "source": [
    "#e\n",
    "gfg=np.matrix('[4,1,9;12,3,1;4,5,6]')\n",
    "s=np.sum(gfg)\n",
    "r=np.sum(gfg,axis=1)\n",
    "c=np.sum(gfg,axis=0)\n",
    "print(s)\n",
    "print(r)\n",
    "print(c)\n",
    "\n",
    "\n"
   ]
  },
  {
   "cell_type": "code",
   "execution_count": 17,
   "id": "54ee41aa",
   "metadata": {},
   "outputs": [
    {
     "name": "stdout",
     "output_type": "stream",
     "text": [
      "176\n",
      "137180.0000000001\n",
      "[[ 0.02404141 -0.00911212 -0.00444671]\n",
      " [-0.01667882  0.02966905  0.0024785 ]\n",
      " [ 0.00631287 -0.01603732  0.01217379]]\n"
     ]
    }
   ],
   "source": [
    "#f\n",
    "n_array = np.array([[55, 25, 15],[30, 44, 2],[11, 45, 77]])\n",
    "diag=np.trace(n_array)\n",
    "\n",
    "eigen_values, eigen_vectors = np.linalg.eig(n_array)\n",
    "inverse=np.linalg.inv(n_array)\n",
    "deter=np.linalg.det(n_array)\n",
    "print(diag)\n",
    "print(deter)\n",
    "print(inverse)"
   ]
  },
  {
   "cell_type": "code",
   "execution_count": 18,
   "id": "a39e2f76-9dc0-4681-a653-b5920764e4de",
   "metadata": {},
   "outputs": [
    {
     "name": "stdout",
     "output_type": "stream",
     "text": [
      "[[16 19]\n",
      " [26 31]]\n",
      "[[0.66666667 1.        ]\n",
      " [1.         1.66666667]]\n",
      "[[16 19  5]\n",
      " [26 31  8]\n",
      " [46 55 14]]\n",
      "[[2.16666667 0.23333333]\n",
      " [0.23333333 5.36666667]]\n"
     ]
    }
   ],
   "source": [
    "#g\n",
    "p = [[1, 2], [2, 3]]\n",
    "q = [[4, 5], [6, 7]]\n",
    "p_f=np.array(p).flatten()\n",
    "q_f=np.array(q).flatten()\n",
    "mul=np.dot(p,q)\n",
    "print(mul)\n",
    "cov=np.cov(p_f,q_f)\n",
    "print(cov)\n",
    "p1 = [[1, 2], [2, 3], [4, 5]]\n",
    "q1 = [[4, 5, 1], [6, 7, 2]]\n",
    "p_f1=np.array(p1).flatten()\n",
    "q_f1=np.array(q1).flatten()\n",
    "multi=np.dot(p1,q1)\n",
    "print(multi)\n",
    "cov1=np.cov(p_f1,q_f1)\n",
    "print(cov1)\n",
    "\n"
   ]
  },
  {
   "cell_type": "code",
   "execution_count": 19,
   "id": "9de98b60-8d84-4157-855e-1d3bcaa1948b",
   "metadata": {},
   "outputs": [
    {
     "name": "stdout",
     "output_type": "stream",
     "text": [
      "inner [[17 52]\n",
      " [13 62]]\n",
      "outer [[ 2 10  0 10 20  6]\n",
      " [ 3 15  0 15 30  9]\n",
      " [ 4 20  0 20 40 12]\n",
      " [ 3 15  0 15 30  9]\n",
      " [ 2 10  0 10 20  6]\n",
      " [ 9 45  0 45 90 27]]\n"
     ]
    }
   ],
   "source": [
    "#h\n",
    "x = np.array([[2, 3, 4], [3, 2, 9]])\n",
    "y = np.array([[1, 5, 0], [5, 10, 3]])\n",
    "inn=np.inner(x,y)\n",
    "out=np.outer(x.flatten(),y.flatten())\n",
    "print(\"inner\",inn)\n",
    "print(\"outer\",out)\n"
   ]
  },
  {
   "cell_type": "markdown",
   "id": "bfaee381-c53f-4893-bec3-fd0c095a5a6c",
   "metadata": {},
   "source": [
    "Q2"
   ]
  },
  {
   "cell_type": "code",
   "execution_count": 20,
   "id": "abf61d83-5ca0-469b-a37a-31f9e83cc00b",
   "metadata": {},
   "outputs": [
    {
     "name": "stdout",
     "output_type": "stream",
     "text": [
      "[[1 2 3]\n",
      " [4 5 6]]\n",
      "[ 1 -2  3 -4  5 -6]\n",
      "-3.5\n",
      "-0.5\n",
      "2.5\n",
      "/ncol\n",
      "[[-2.75 -0.25 -3.75]\n",
      " [-1.5   1.5  -1.5 ]\n",
      " [-0.25  3.25  0.75]]\n",
      "/n row\n",
      "[[-0.5 -5. ]\n",
      " [ 1.  -4. ]\n",
      " [ 2.   0.5]]\n"
     ]
    }
   ],
   "source": [
    "#a\n",
    "array = np.array([[1, -2, 3],[-4, 5, -6]])\n",
    "ab=np.absolute(array)\n",
    "print(ab)\n",
    "flat=array.flatten()\n",
    "print(flat)\n",
    "p_25=np.percentile(flat,25)\n",
    "p_50=np.percentile(flat,50)\n",
    "p_75=np.percentile(flat,75)\n",
    "print(p_25)\n",
    "print(p_50)\n",
    "print(p_75)\n",
    "print(\"/ncol\")\n",
    "cp=np.percentile(array,[25,50,75],axis=0)\n",
    "print(cp)\n",
    "print(\"/n row\")\n",
    "rp=np.percentile(array,[25,50,75],axis=1)\n",
    "print(rp)"
   ]
  },
  {
   "cell_type": "code",
   "execution_count": 21,
   "id": "2aba0f68-7cfd-46a2-a34f-9e7269e89ae3",
   "metadata": {},
   "outputs": [
    {
     "name": "stdout",
     "output_type": "stream",
     "text": [
      "mean -0.5\n",
      "median -0.5\n",
      "sd 3.8622100754188224\n",
      "/n column\n",
      "mean [-1.5  1.5 -1.5]\n",
      "median [-1.5  1.5 -1.5]\n",
      "sd [2.5 3.5 4.5]\n",
      "/n row\n",
      "mean [ 0.66666667 -1.66666667]\n",
      "median [ 1. -4.]\n",
      "sd [2.05480467 4.78423336]\n"
     ]
    }
   ],
   "source": [
    "\n",
    "print(\"mean\",np.mean(flat))\n",
    "print(\"median\",np.median(flat))\n",
    "print(\"sd\",np.std(flat))\n",
    "print(\"/n column\")\n",
    "print(\"mean\",np.mean(array,axis=0))\n",
    "print(\"median\",np.median(array,axis=0))\n",
    "print(\"sd\",np.std(array,axis=0))\n",
    "print(\"/n row\")\n",
    "print(\"mean\",np.mean(array,axis=1))\n",
    "print(\"median\",np.median(array,axis=1))\n",
    "print(\"sd\",np.std(array,axis=1))\n",
    "\n"
   ]
  },
  {
   "cell_type": "code",
   "execution_count": 22,
   "id": "04c341b9-2eee-421f-8625-1ad8f265d8ea",
   "metadata": {},
   "outputs": [
    {
     "name": "stdout",
     "output_type": "stream",
     "text": [
      "floor [-2. -2. -1.  0.  1.  1.  3.]\n",
      "ceil [-1. -1. -0.  1.  2.  2.  3.]\n",
      "trunc [-1. -1. -0.  0.  1.  1.  3.]\n",
      "round [-2. -2. -0.  0.  2.  2.  3.]\n"
     ]
    }
   ],
   "source": [
    "#b\n",
    "a = np.array([-1.8, -1.6, -0.5, 0.5,1.6, 1.8, 3.0])\n",
    "print(\"floor\",np.floor(a))\n",
    "print(\"ceil\",np.ceil(a))\n",
    "print(\"trunc\",np.trunc(a))\n",
    "print(\"round\",np.round(a))"
   ]
  },
  {
   "cell_type": "markdown",
   "id": "ce8db414-fcaa-4dfc-89a5-55b575ce7af5",
   "metadata": {},
   "source": [
    "Q3"
   ]
  },
  {
   "cell_type": "code",
   "execution_count": 23,
   "id": "2061dcb6-47f7-40bb-b3aa-cc932d923991",
   "metadata": {},
   "outputs": [
    {
     "name": "stdout",
     "output_type": "stream",
     "text": [
      "sorted [ 10  16  16  52  54  62 453]\n",
      "indices [0 3 4 1 5 2 6]\n",
      "smalllest [10 16 16 52]\n",
      "largest [ 16  52  54  62 453]\n"
     ]
    }
   ],
   "source": [
    "#a\n",
    "array = np.array([10, 52, 62, 16, 16, 54, 453])\n",
    "st=np.sort(array)\n",
    "print(\"sorted\",np.sort(array))\n",
    "print(\"indices\",np.argsort(array))\n",
    "print(\"smalllest\",st[:4])\n",
    "print(\"largest\",st[-5:])"
   ]
  },
  {
   "cell_type": "code",
   "execution_count": 24,
   "id": "697bc5fa-1bce-4e2b-a1fd-618bf11b67e9",
   "metadata": {},
   "outputs": [
    {
     "name": "stdout",
     "output_type": "stream",
     "text": [
      "intt [ True False False  True  True  True]\n",
      "float [False  True  True False False False]\n"
     ]
    }
   ],
   "source": [
    "#b\n",
    "array2 = np.array([1.0, 1.2, 2.2, 2.0, 3.0, 2.0])\n",
    "flr=np.floor(array2)\n",
    "print(\"intt\",array2==flr)\n",
    "print(\"float\",array2!=flr)"
   ]
  }
 ],
 "metadata": {
  "kernelspec": {
   "display_name": "Python 3",
   "language": "python",
   "name": "python3"
  },
  "language_info": {
   "codemirror_mode": {
    "name": "ipython",
    "version": 3
   },
   "file_extension": ".py",
   "mimetype": "text/x-python",
   "name": "python",
   "nbconvert_exporter": "python",
   "pygments_lexer": "ipython3",
   "version": "3.12.3"
  }
 },
 "nbformat": 4,
 "nbformat_minor": 5
}
